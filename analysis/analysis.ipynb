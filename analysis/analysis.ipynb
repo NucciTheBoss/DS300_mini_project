{
 "cells": [
  {
   "cell_type": "markdown",
   "metadata": {
    "collapsed": true
   },
   "source": [
    "# DS300 Mini-Project - Differential Privacy via a Flask REST API\n",
    "* **Name:** Jason C. Nucciarone\n",
    "* **Date:** 12/5/2021\n",
    "* **Python version:** 3.10.0"
   ]
  },
  {
   "cell_type": "markdown",
   "metadata": {},
   "source": [
    "## Setup"
   ]
  },
  {
   "cell_type": "code",
   "execution_count": 3,
   "metadata": {},
   "outputs": [],
   "source": [
    "# Necessary imports\n",
    "import matplotlib.pyplot as plt\n",
    "import requests\n",
    "from typing import Tuple\n",
    "\n",
    "\n",
    "# Construct class to handle URL requests to web API\n",
    "class RequestHandler:\n",
    "    \"\"\" Class to function as go-between for API and Notebook. \"\"\"\n",
    "    def __init__(self, root_url: str, port: str) -> None:\n",
    "        self._root_url = root_url\n",
    "        self._port = port\n",
    "\n",
    "    def execute(self, sql: str, dp_active=True) -> dict:\n",
    "        \"\"\"\n",
    "        Query web server.\n",
    "\n",
    "        :param sql: SQL query.\n",
    "        :param dp_active: Toggle DP on or off - True = on - False = off\n",
    "        \"\"\"\n",
    "        res = requests.get(self._url_builder((dp_active, sql)))\n",
    "        \n",
    "        if res.status_code != 200: \n",
    "            return None\n",
    "        \n",
    "        return res.json()\n",
    "\n",
    "    def _url_builder(self, query: Tuple[bool, str]) -> str:\n",
    "        \"\"\"\n",
    "        Construct query to web server.\n",
    "\n",
    "        :param query: Unformatted SQL query with DP activated or not activated.\n",
    "        :return: Formatted URL to query web server\n",
    "        \"\"\"\n",
    "        sql = query[1].replace(\" \", \"+\")\n",
    "\n",
    "        if query[0] is True:\n",
    "            dp_or_orig = \"diff\"\n",
    "\n",
    "        else:\n",
    "            dp_or_orig = \"orig\"\n",
    "\n",
    "        return self._root_url + \":\" + self._port + \"/\" + dp_or_orig + \"/\" + sql\n",
    "\n",
    "    @property\n",
    "    def info(self):\n",
    "        \"\"\" Return info about database. \"\"\"\n",
    "        res = requests.get(self._root_url + \":\" + self._port + \"/info\")\n",
    "\n",
    "        if res.status_code != 200:\n",
    "            return None\n",
    "\n",
    "        return res.json()\n",
    "\n",
    "\n",
    "# Initialize request handler\n",
    "rh = RequestHandler(\"http://127.0.0.1\", \"5000\")"
   ]
  },
  {
   "cell_type": "markdown",
   "metadata": {},
   "source": [
    "## Info about PPP Loan Database"
   ]
  },
  {
   "cell_type": "code",
   "execution_count": 4,
   "metadata": {},
   "outputs": [
    {
     "data": {
      "text/plain": [
       "{'attr_names': ['LoanNumber',\n",
       "  'DateApproved',\n",
       "  'SBAOfficeCode',\n",
       "  'ProcessingMethod',\n",
       "  'BorrowerName',\n",
       "  'BorrowerAddress',\n",
       "  'BorrowerCity',\n",
       "  'BorrowerState',\n",
       "  'BorrowerZip',\n",
       "  'LoanStatusDate',\n",
       "  'LoanStatus',\n",
       "  'Term',\n",
       "  'SBAGuarantyPercentage',\n",
       "  'InitialApprovalAmount',\n",
       "  'CurrentApprovalAmount',\n",
       "  'UndisbursedAmount',\n",
       "  'FranchiseName',\n",
       "  'ServicingLenderLocationID',\n",
       "  'ServicingLenderName',\n",
       "  'ServicingLenderAddress',\n",
       "  'ServicingLenderCity',\n",
       "  'ServicingLenderState',\n",
       "  'ServicingLenderZip',\n",
       "  'RuralUrbanIndicator',\n",
       "  'HubzoneIndicator',\n",
       "  'LMIIndicator',\n",
       "  'BusinessAgeDescription',\n",
       "  'ProjectCity',\n",
       "  'ProjectCountyName',\n",
       "  'ProjectState',\n",
       "  'ProjectZip',\n",
       "  'CD',\n",
       "  'JobsReported',\n",
       "  'NAICSCode',\n",
       "  'Race',\n",
       "  'Ethnicity',\n",
       "  'UTILITIES_PROCEED',\n",
       "  'PAYROLL_PROCEED',\n",
       "  'MORTGAGE_INTEREST_PROCEED',\n",
       "  'RENT_PROCEED',\n",
       "  'REFINANCE_EIDL_PROCEED',\n",
       "  'HEALTH_CARE_PROCEED',\n",
       "  'DEBT_INTEREST_PROCEED',\n",
       "  'BusinessType',\n",
       "  'OriginatingLenderLocationID',\n",
       "  'OriginatingLender',\n",
       "  'OriginatingLenderCity',\n",
       "  'OriginatingLenderState',\n",
       "  'Gender',\n",
       "  'Veteran',\n",
       "  'NonProfit',\n",
       "  'ForgivenessAmount',\n",
       "  'ForgivenessDate'],\n",
       " 'columns': 53,\n",
       " 'missing_values': False,\n",
       " 'rows': 968557}"
      ]
     },
     "execution_count": 4,
     "metadata": {},
     "output_type": "execute_result"
    }
   ],
   "source": [
    "rh.info"
   ]
  },
  {
   "cell_type": "code",
   "execution_count": null,
   "metadata": {},
   "outputs": [],
   "source": []
  }
 ],
 "metadata": {
  "kernelspec": {
   "display_name": "Python 3",
   "language": "python",
   "name": "python3"
  },
  "language_info": {
   "codemirror_mode": {
    "name": "ipython",
    "version": 3
   },
   "file_extension": ".py",
   "mimetype": "text/x-python",
   "name": "python",
   "nbconvert_exporter": "python",
   "pygments_lexer": "ipython3",
   "version": "3.10.0"
  }
 },
 "nbformat": 4,
 "nbformat_minor": 0
}